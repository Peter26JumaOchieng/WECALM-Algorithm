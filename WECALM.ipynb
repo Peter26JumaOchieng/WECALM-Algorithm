{
  "nbformat": 4,
  "nbformat_minor": 0,
  "metadata": {
    "colab": {
      "provenance": []
    },
    "kernelspec": {
      "name": "python3",
      "display_name": "Python 3"
    },
    "language_info": {
      "name": "python"
    }
  },
  "cells": [
    {
      "cell_type": "code",
      "execution_count": 1,
      "metadata": {
        "colab": {
          "base_uri": "https://localhost:8080/"
        },
        "id": "XRHFQ8xgh0LE",
        "outputId": "7f01cb85-b9b2-4295-d5f9-dc8b189cde28"
      },
      "outputs": [
        {
          "output_type": "stream",
          "name": "stdout",
          "text": [
            "Mounted at /content/drive\n"
          ]
        }
      ],
      "source": [
        "\"\"\"\n",
        "  This code will create a set of data results from the datasets provided.\n",
        "  To run this code you have to direct your running environment to the \"file.in\" path.\n",
        "  for example, if you wnat to process or anlayse the human_PPI you will need to call the \n",
        "  !python main_script.py and then pass the human_PPI.txt file with the code\n",
        "  like the following\n",
        "  !python script_main.py data\\human_PPI.txt\n",
        "  and of course you will need to specify the current path of you file.\n",
        "\"\"\"\n",
        "\n",
        "\n",
        "#mount to google drive\n",
        "from google.colab import drive\n",
        "drive.mount('/content/drive')"
      ]
    },
    {
      "cell_type": "markdown",
      "source": [
        "\"\"\"* WECALM is written in Python3.8\n",
        "Programs/packages you must have:\n",
        "1.\tPython3.8 (available at http://python.org/)\n",
        "=============\n",
        "From the commandline write the following commands:\n",
        "\n",
        "! python script_main.py -f [fileinteractions] -s [structuralsimilarity]\";\n",
        "\n",
        "-f = the files contains the protein interactions.\n",
        "-ss = structural similarity (defalt 0.4).\n",
        "\n",
        "For example, it runs as follows:\n",
        "python script_main.py -f DIP.txt -s 0.4\"\"\""
      ],
      "metadata": {
        "id": "K1GnNhFvj88R"
      }
    },
    {
      "cell_type": "code",
      "source": [
        "#change the directory to the drive location where you data files are located!\n",
        "%cd /content/drive/MyDrive/WECALM"
      ],
      "metadata": {
        "colab": {
          "base_uri": "https://localhost:8080/"
        },
        "id": "T_oU8OpMi9j4",
        "outputId": "80732e36-4bde-4812-a5c5-0331bb107240"
      },
      "execution_count": 4,
      "outputs": [
        {
          "output_type": "stream",
          "name": "stdout",
          "text": [
            "/content/drive/MyDrive/WECALM\n"
          ]
        }
      ]
    },
    {
      "cell_type": "code",
      "source": [
        "!python script_main.py -f DIP.txt -s 0.4"
      ],
      "metadata": {
        "colab": {
          "base_uri": "https://localhost:8080/"
        },
        "id": "l8Row1OejC14",
        "outputId": "83e9f59e-0214-4c82-c040-e9eca89d0474"
      },
      "execution_count": 5,
      "outputs": [
        {
          "output_type": "stream",
          "name": "stdout",
          "text": [
            "<optparse.OptionParser object at 0x7f8b486104f0>\n",
            "Starting WECALM ... please wait ..\n",
            "{'fileinteractions': 'DIP.txt', 'structuralsimilarity': '0.4'}\n",
            "the file interaction name is: DIP.txt\n",
            "Total number of proteins: 4930\n",
            "Total number of interactions: 17201\n",
            "time_seed4 = 0.1650767500000001\n",
            "DIP.tx\n",
            "time cost 1.9411782450000001 s\n"
          ]
        }
      ]
    },
    {
      "cell_type": "code",
      "source": [
        "!python script_main.py -f data/human_PPI.txt -s 0.4"
      ],
      "metadata": {
        "colab": {
          "base_uri": "https://localhost:8080/"
        },
        "id": "YcniudlVjopL",
        "outputId": "3c64e9bb-1822-4769-d787-c26fc6803f71"
      },
      "execution_count": 9,
      "outputs": [
        {
          "output_type": "stream",
          "name": "stdout",
          "text": [
            "<optparse.OptionParser object at 0x7f877aeb44f0>\n",
            "Starting WECALM ... please wait ..\n",
            "{'fileinteractions': 'data/human_PPI.txt', 'structuralsimilarity': '0.4'}\n",
            "the file interaction name is: data/human_PPI.txt\n",
            "Total number of proteins: 15459\n",
            "Total number of interactions: 144687\n",
            "tcmalloc: large alloc 1911848960 bytes == 0x320e000 @  0x7f877cb19001 0x7f877a36122f 0x7f877a3b968b 0x7f877a3ba4f7 0x7f877a45c913 0x5aae14 0x4990ca 0x5d8868 0x4997c7 0x5d8868 0x4990ca 0x55cd91 0x55d743 0x642630 0x6426ae 0x644b78 0x64511c 0x677e5e 0x678029 0x7f877c714c87 0x5e1baa\n",
            "tcmalloc: large alloc 1911848960 bytes == 0x751be000 @  0x7f877cb19001 0x7f877a36122f 0x7f877a3b968b 0x7f877a3ba4f7 0x7f877a45c913 0x5aae14 0x4990ca 0x5d8868 0x4990ca 0x5d8868 0x4997c7 0x5d8868 0x4990ca 0x55cd91 0x55d743 0x642630 0x6426ae 0x644b78 0x64511c 0x677e5e 0x678029 0x7f877c714c87 0x5e1baa\n",
            "time_seed4 = 9.459413064000001\n",
            "human_PPI.tx\n",
            "time cost 26.242613416999998 s\n"
          ]
        }
      ]
    },
    {
      "cell_type": "code",
      "source": [
        "!python script_main.py -f Human/hs/complexes.txt -s 0.4"
      ],
      "metadata": {
        "colab": {
          "base_uri": "https://localhost:8080/"
        },
        "id": "aHAbjK4XkKgw",
        "outputId": "9e8327da-5aaa-426d-e55d-7918a8b90103"
      },
      "execution_count": 11,
      "outputs": [
        {
          "output_type": "stream",
          "name": "stdout",
          "text": [
            "<optparse.OptionParser object at 0x7f1fa62d94f0>\n",
            "Starting WECALM ... please wait ..\n",
            "{'fileinteractions': 'Human/hs/complexes.txt', 'structuralsimilarity': '0.4'}\n",
            "the file interaction name is: Human/hs/complexes.txt\n",
            "Total number of proteins: 2492\n",
            "Total number of interactions: 2039\n",
            "time_seed4 = 0.0022780030000000007\n",
            "Human/hs/complexes.tx\n",
            "time cost 0.07757616599999997 s\n"
          ]
        }
      ]
    },
    {
      "cell_type": "code",
      "source": [
        "!python script_main.py -f data/SC_PPI.txt -s 0.4"
      ],
      "metadata": {
        "colab": {
          "base_uri": "https://localhost:8080/"
        },
        "id": "ggnUEZzXkRN2",
        "outputId": "44046958-1748-4bb9-b358-bed5678dcf8a"
      },
      "execution_count": 12,
      "outputs": [
        {
          "output_type": "stream",
          "name": "stdout",
          "text": [
            "<optparse.OptionParser object at 0x7f8b104a34f0>\n",
            "Starting WECALM ... please wait ..\n",
            "{'fileinteractions': 'data/SC_PPI.txt', 'structuralsimilarity': '0.4'}\n",
            "the file interaction name is: data/SC_PPI.txt\n",
            "Total number of proteins: 6194\n",
            "Total number of interactions: 74826\n",
            "time_seed4 = 8.098701314000001\n",
            "SC_PPI.tx\n",
            "time cost 15.585308363000001 s\n"
          ]
        }
      ]
    },
    {
      "cell_type": "code",
      "source": [
        "!python script_main.py -f data/ppi_BioGRID.txt -s 0.4"
      ],
      "metadata": {
        "colab": {
          "base_uri": "https://localhost:8080/"
        },
        "id": "PcGjKFrBkR03",
        "outputId": "7536917b-efa7-4567-8823-b67241ec71e8"
      },
      "execution_count": 13,
      "outputs": [
        {
          "output_type": "stream",
          "name": "stdout",
          "text": [
            "<optparse.OptionParser object at 0x7fa924b7d4f0>\n",
            "Starting WECALM ... please wait ..\n",
            "{'fileinteractions': 'data/ppi_BioGRID.txt', 'structuralsimilarity': '0.4'}\n",
            "the file interaction name is: data/ppi_BioGRID.txt\n",
            "Total number of proteins: 5640\n",
            "Total number of interactions: 59748\n",
            "time_seed4 = 7.191440555999999\n",
            "ppi_BioGRID.tx\n",
            "time cost 14.670883610999999 s\n"
          ]
        }
      ]
    },
    {
      "cell_type": "code",
      "source": [
        "!python script_main.py -f Yeast/sc/complexes.txt -s 0.4"
      ],
      "metadata": {
        "colab": {
          "base_uri": "https://localhost:8080/"
        },
        "id": "xHrHuoiEk8gX",
        "outputId": "599243fe-1b8b-4054-c91e-ab2ba383c1f5"
      },
      "execution_count": 14,
      "outputs": [
        {
          "output_type": "stream",
          "name": "stdout",
          "text": [
            "<optparse.OptionParser object at 0x7fa1bf40e4f0>\n",
            "Starting WECALM ... please wait ..\n",
            "{'fileinteractions': 'Yeast/sc/complexes.txt', 'structuralsimilarity': '0.4'}\n",
            "the file interaction name is: Yeast/sc/complexes.txt\n",
            "Total number of proteins: 1208\n",
            "Total number of interactions: 949\n",
            "time_seed4 = 0.0009857619999999734\n",
            "Yeast/sc/complexes.tx\n",
            "time cost 0.02509582499999999 s\n"
          ]
        }
      ]
    },
    {
      "cell_type": "code",
      "source": [
        "!python script_main.py -f Yeast/CYC2008.txt -s 0.4"
      ],
      "metadata": {
        "colab": {
          "base_uri": "https://localhost:8080/"
        },
        "id": "Txss4G5JlP7Q",
        "outputId": "44db9b14-c465-41e9-c196-7e5a8add3e65"
      },
      "execution_count": 15,
      "outputs": [
        {
          "output_type": "stream",
          "name": "stdout",
          "text": [
            "<optparse.OptionParser object at 0x7f00292d94f0>\n",
            "Starting WECALM ... please wait ..\n",
            "{'fileinteractions': 'Yeast/CYC2008.txt', 'structuralsimilarity': '0.4'}\n",
            "the file interaction name is: Yeast/CYC2008.txt\n",
            "Total number of proteins: 436\n",
            "Total number of interactions: 227\n",
            "time_seed4 = 3.1910000000134886e-06\n",
            "Yeast/CYC2008.tx\n",
            "time cost 0.003451425000000008 s\n"
          ]
        }
      ]
    },
    {
      "cell_type": "code",
      "source": [
        "!python script_main.py -f Yeast/NewMIPS.txt -s 0.4"
      ],
      "metadata": {
        "colab": {
          "base_uri": "https://localhost:8080/"
        },
        "id": "2Uwdmni5laRe",
        "outputId": "84eee570-bdc3-4b12-9893-b861fb2816a3"
      },
      "execution_count": 16,
      "outputs": [
        {
          "output_type": "stream",
          "name": "stdout",
          "text": [
            "<optparse.OptionParser object at 0x7f32587e04f0>\n",
            "Starting WECALM ... please wait ..\n",
            "{'fileinteractions': 'Yeast/NewMIPS.txt', 'structuralsimilarity': '0.4'}\n",
            "the file interaction name is: Yeast/NewMIPS.txt\n",
            "Total number of proteins: 468\n",
            "Total number of interactions: 291\n",
            "time_seed4 = 8.607999999998839e-05\n",
            "Yeast/NewMIPS.tx\n",
            "time cost 0.005601436999999987 s\n"
          ]
        }
      ]
    }
  ]
}
